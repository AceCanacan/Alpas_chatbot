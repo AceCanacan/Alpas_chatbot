{
 "cells": [
  {
   "cell_type": "code",
   "execution_count": 16,
   "metadata": {},
   "outputs": [],
   "source": [
    "import pandas as pd\n",
    "import re\n",
    "import openai"
   ]
  },
  {
   "cell_type": "code",
   "execution_count": 17,
   "metadata": {},
   "outputs": [],
   "source": [
    "# Replace 'your_file.csv' with the path to your CSV file\n",
    "df = pd.read_csv('data.csv')"
   ]
  },
  {
   "cell_type": "code",
   "execution_count": 18,
   "metadata": {},
   "outputs": [],
   "source": [
    "def extract_title_enhanced(case_text):\n",
    "    case_text = str(case_text)\n",
    "    \n",
    "    # First attempt with the original pattern\n",
    "    match = re.search(r'\\[\\s*(G\\.\\s*R\\.\\s*Nos?\\.).*?\\]\\s*.*?(J\\.\\:|PER\\s*CURIAM\\:)', case_text, re.DOTALL)\n",
    "    if match:\n",
    "        return match.group(0).strip()\n",
    "    \n",
    "    # Second attempt with the refined pattern\n",
    "    match = re.search(\n",
    "        r'\\[\\s*((G\\.\\s*R\\.\\s*No\\.?\\s*L?-?\\d+\\.?)|(\\d+[-\\d]*))\\.\\s*.*?\\]\\s*(.*?)(?=\\.?\\s*J\\.\\:)',\n",
    "        case_text,\n",
    "        re.DOTALL\n",
    "    )\n",
    "    if match:\n",
    "        return \"[{}] {}\".format(match.group(1), match.group(4).strip())\n",
    "    \n",
    "    # Third attempt, enhanced to capture additional patterns and variations\n",
    "    match = re.search(\n",
    "        r'\\[\\s*(?:(G\\.\\s*R\\.\\s*No\\.?|A\\.M\\.\\s*No\\.)\\s*(L?-?\\d+[-\\d]*))\\s*(?:.*?\\.\\s*)?\\]\\s*(THE\\s*.*?|\\w+\\s*\\w+\\s*VS\\.\\s*\\w+.*?)(?:\\.\\s*D\\s*E\\s*C\\s*I\\s*S\\s*I\\s*O\\s*N\\s*|R\\s*E\\s*S\\s*O\\s*L\\s*U\\s*T\\s*I\\s*O\\s*N\\s*)(.*?)(?=\\s*J\\.\\:|PER\\s*CURIAM\\:)',\n",
    "        case_text,\n",
    "        re.DOTALL\n",
    "    )\n",
    "    if match:\n",
    "        # Constructing the title to capture broader cases including different prefixes and spacing\n",
    "        title = \"[{}] {}\".format(match.group(2), match.group(4).strip())\n",
    "        return title\n",
    "    \n",
    "    return 'No Title Found'\n",
    "\n",
    "\n",
    "# Apply the enhanced extraction function directly to each row in the 'content' column\n",
    "df['case_title'] = df['content'].apply(extract_title_enhanced)\n"
   ]
  },
  {
   "cell_type": "code",
   "execution_count": 19,
   "metadata": {},
   "outputs": [
    {
     "name": "stdout",
     "output_type": "stream",
     "text": [
      "Identified Titles: 811\n",
      "No Title Found: 102\n",
      "\n",
      "Samples of Identified Titles:\n",
      "- [ G.R. No. 6717. October 19, 1911 ] THE UNITED STATES, PLAINTIFF AND APPELLEE, VS. FAUSTINO MESINA, DEFENDANT AND APPELLANT. D E C I S I O N TORRES, J.:\n",
      "- [ G.R. No. 6923. September 12, 1912 ] THE UNITED STATES, PLAINTIFF AND APPELLEE, VS. VALENTIN BERNABE, DEFENDANT AND APPELLANT. D E C I S I O N TORRES, J.:\n",
      "- [ G.R. No. 1237. September 30, 1903 ] THE UNITED STATES, COMPLAINANT AND APPELLEE, VS. LEONARDO GUINACARAN ET AL., DEFENDANTS AND APPELLANTS. D E C I S I O N TORRES, J.:\n",
      "- [ G.R. No. 6705. February 27, 1912 ] THE UNITED STATES, PLAINTIFF AND APPELLEE, VS. FELIPE SALVADOR (ALIAS APONG IPI), DEFENDANT AND APPELLANT. D E C I S I O N MORELAND, J.:\n",
      "- [ G.R. No. L-12907. May 30, 1960 ] THE PEOPLE OF THE PHILIPPINES, PLAINTIFF AND APPELLEE, VS. MORO AMBAHANG, ET AL., DEFENDANTS. HANDAN AMID, INAMA MORSAN, NICOLAS CARPIO ALIAS COLAS AMBAHANG MORO, DEFENDANTS AND APPELLANTS. D E C I S I O N PER CURIAM:\n",
      "\n",
      "Samples of Contents Without Identified Titles:\n",
      "- 156 Phil. 308 SECOND DIVISION [ G.R. NO. L-31227. May 31, 1974 ] THE PEOPLE OF THE PHILIPPINES, PLAINTIFF AND APPELLEE, VS. ANTONIO SAVELLANO, DEFENDANT AND APPELLANT. D E C I S I O N AQUINO, J.: Antonio Savellano  appealed from the decision of the Court of First Instance of South Cotabato convictin\n",
      "- 155 Phil. 421 FIRST DIVISION [ G.R. NO. L-30619. March 29, 1974 ] THE PEOPLE OF THE PHILIPPINES, PLAINTIFF AND APPELLEE, VS. BEN DAYAG, DEFENDANT AND APPELLANT. D E C I S I O N ESGUERRA, J.: Appeal from the judgment of the Court of First Instance of Nueva Ecija, Branch IV, Guimba, finding the accuse\n",
      "- H. No. 12240 [ REPUBLIC ACT No. 7854. January 02, 1995 ] AN ACT CONVERTING THE MUNICIPALITY OF MAKATI INTO A HIGHLY URBANIZED CITY TO BE KNOWN AS THE CITY OF MAKATI Be it enacted by the Senate and House of Representatives of the Philippines in Congress assembled: ARTICLE I General Provisions SECTION\n",
      "- 393 Phil. 338 [ G.R No. 133859. August 24, 2000 ] PEOPLE OF THE PHILIPPINES, PLAINTIFF-APPELLEE, VS. FELIZARDO GONZALES Y ALTARES, ACCUSED-APPELLANT. D E C I S I O N PER CURIAM: This case illustrates how parental neglect could sometimes lead children to tragic ends. The victim in this case, a 12-yea\n",
      "- 435 Phil. 695 FIRST DIVISION [ A.M. No. RTJ-99-1509. August 08, 2002 ] ASUNCION S. LIGUID, COMPLAINANT, VS. JUDGE POLICARPIO S. CAMANO, JR., REGIONAL TRIAL COURT, BRANCH 58, TIGAON, CAMARINES SUR, RESPONDENT. R E S O L U T I O N YNARES-SANTIAGO,  J.: Complainant owned a furniture shop in San Antonio\n"
     ]
    }
   ],
   "source": [
    "# Assuming 'df' has a 'case_title' column from previous extraction efforts\n",
    "\n",
    "# Count identified and non-identified titles\n",
    "identified_count = df[df['case_title'] != 'No Title Found'].shape[0]\n",
    "no_title_count = df[df['case_title'] == 'No Title Found'].shape[0]\n",
    "\n",
    "# Get samples for identified and non-identified titles\n",
    "identified_samples = df[df['case_title'] != 'No Title Found']['case_title'].head(5).tolist()\n",
    "no_title_samples = df[df['case_title'] == 'No Title Found']['content'].head(5).tolist()\n",
    "\n",
    "# Displaying the results\n",
    "print(f\"Identified Titles: {identified_count}\")\n",
    "print(f\"No Title Found: {no_title_count}\\n\")\n",
    "print(\"Samples of Identified Titles:\")\n",
    "for sample in identified_samples:\n",
    "    print(f\"- {sample}\")\n",
    "\n",
    "print(\"\\nSamples of Contents Without Identified Titles:\")\n",
    "for sample in no_title_samples:\n",
    "    print(f\"- {sample[:300]}\")  # Show only the first 300 characters for readability"
   ]
  },
  {
   "cell_type": "code",
   "execution_count": 20,
   "metadata": {},
   "outputs": [
    {
     "name": "stdout",
     "output_type": "stream",
     "text": [
      "Total Identified Titles (Including Updated): 913\n",
      "'No Content Available' Titles (where content was NaN): 3\n",
      "\n",
      "First few updated titles:\n",
      "['[ G.R. No. 6717. October 19, 1911 ] THE UNITED STATES, PLAINTIFF AND APPELLEE, VS. FAUSTINO MESINA, DEFENDANT AND APPELLANT. D E C I S I O N TORRES, J.:', '[ G.R. No. 6923. September 12, 1912 ] THE UNITED STATES, PLAINTIFF AND APPELLEE, VS. VALENTIN BERNABE, DEFENDANT AND APPELLANT. D E C I S I O N TORRES, J.:', '[ G.R. No. 1237. September 30, 1903 ] THE UNITED STATES, COMPLAINANT AND APPELLEE, VS. LEONARDO GUINACARAN ET AL., DEFENDANTS AND APPELLANTS. D E C I S I O N TORRES, J.:', '[ G.R. No. 6705. February 27, 1912 ] THE UNITED STATES, PLAINTIFF AND APPELLEE, VS. FELIPE SALVADOR (ALIAS APONG IPI), DEFENDANT AND APPELLANT. D E C I S I O N MORELAND, J.:', '[ G.R. No. L-12907. May 30, 1960 ] THE PEOPLE OF THE PHILIPPINES, PLAINTIFF AND APPELLEE, VS. MORO AMBAHANG, ET AL., DEFENDANTS. HANDAN AMID, INAMA MORSAN, NICOLAS CARPIO ALIAS COLAS AMBAHANG MORO, DEFENDANTS AND APPELLANTS. D E C I S I O N PER CURIAM:']\n"
     ]
    }
   ],
   "source": [
    "# Directly update 'case_title' for entries with 'No Title Found'\n",
    "# Replace them with the first 300 characters of 'content', or with 'No Content Available' if content is NaN\n",
    "df.loc[df['case_title'] == 'No Title Found', 'case_title'] = df.apply(lambda row: row['content'][:300] if pd.notna(row['content']) else 'No Content Available', axis=1)\n",
    "\n",
    "# After updating, count how many titles are identified (which should now include those updated with the first 300 characters of content)\n",
    "new_identified_count = df[df['case_title'].str.len() > 0].shape[0]\n",
    "new_no_title_count = df[df['case_title'] == 'No Content Available'].shape[0]\n",
    "\n",
    "# Displaying updated counts\n",
    "print(f\"Total Identified Titles (Including Updated): {new_identified_count}\")\n",
    "print(f\"'No Content Available' Titles (where content was NaN): {new_no_title_count}\\n\")\n",
    "\n",
    "# Displaying the first few rows to check updates\n",
    "print(\"First few updated titles:\")\n",
    "print(df['case_title'].head(5).tolist())"
   ]
  },
  {
   "cell_type": "code",
   "execution_count": 24,
   "metadata": {},
   "outputs": [
    {
     "name": "stdout",
     "output_type": "stream",
     "text": [
      "First few rows of the dataset:\n",
      "                                               links  \\\n",
      "0  https://elibrary.judiciary.gov.ph/assets/dtSea...   \n",
      "1  https://elibrary.judiciary.gov.ph/assets/dtSea...   \n",
      "2  https://elibrary.judiciary.gov.ph/assets/dtSea...   \n",
      "3  https://elibrary.judiciary.gov.ph/assets/dtSea...   \n",
      "4  https://elibrary.judiciary.gov.ph/assets/dtSea...   \n",
      "\n",
      "                                             content  \\\n",
      "0  21 Phil. 615 [ G.R. No. 6717. October 19, 1911...   \n",
      "1  23 Phil. 154 [ G.R. No. 6923. September 12, 19...   \n",
      "2  2 Phil. 551 [ G.R. No. 1237. September 30, 190...   \n",
      "3  22 Phil. 113 [ G.R. No. 6705. February 27, 191...   \n",
      "4  108 Phil. 325 [ G.R. No. L-12907. May 30, 1960...   \n",
      "\n",
      "                                          case_title  \n",
      "0  [ G.R. No. 6717. October 19, 1911 ] THE UNITED...  \n",
      "1  [ G.R. No. 6923. September 12, 1912 ] THE UNIT...  \n",
      "2  [ G.R. No. 1237. September 30, 1903 ] THE UNIT...  \n",
      "3  [ G.R. No. 6705. February 27, 1912 ] THE UNITE...  \n",
      "4  [ G.R. No. L-12907. May 30, 1960 ] THE PEOPLE ...   \n",
      "\n",
      "Total rows in dataset: 913\n",
      "Titles Updated with Content or Marked as 'No Content Available': 856\n",
      "Unique Titles (Excluding 'No Content Available'): 910\n",
      "'No Content Available' Titles: 3\n",
      "Total Missing Values Across All Columns: 3\n"
     ]
    }
   ],
   "source": [
    "# Display the first few rows of the dataset to understand its structure\n",
    "print(\"First few rows of the dataset:\")\n",
    "print(df.head(), \"\\n\")  # Adjust the number inside head() as needed\n",
    "\n",
    "# Count the number of titles that were not originally identified but now have been updated with content or marked as 'No Content Available'\n",
    "updated_title_count = len(df[df['case_title'].str.len() <= 300])  # Assuming titles longer than 300 characters were already identified\n",
    "no_content_count = len(df[df['case_title'] == 'No Content Available'])\n",
    "\n",
    "# Count unique titles, excluding 'No Content Available'\n",
    "unique_titles_count = len(df[df['case_title'] != 'No Content Available']['case_title'].unique())\n",
    "\n",
    "# Check for any missing values across the entire DataFrame\n",
    "total_missing_values = df.isnull().sum().sum()\n",
    "\n",
    "# Summary\n",
    "print(f\"Total rows in dataset: {len(df)}\")\n",
    "print(f\"Titles Updated with Content or Marked as 'No Content Available': {updated_title_count}\")\n",
    "print(f\"Unique Titles (Excluding 'No Content Available'): {unique_titles_count}\")\n",
    "print(f\"'No Content Available' Titles: {no_content_count}\")\n",
    "print(f\"Total Missing Values Across All Columns: {total_missing_values}\")"
   ]
  },
  {
   "cell_type": "code",
   "execution_count": 26,
   "metadata": {},
   "outputs": [],
   "source": [
    "df.to_csv(\"cases_w_meta.csv\")"
   ]
  }
 ],
 "metadata": {
  "kernelspec": {
   "display_name": "Python 3",
   "language": "python",
   "name": "python3"
  },
  "language_info": {
   "codemirror_mode": {
    "name": "ipython",
    "version": 3
   },
   "file_extension": ".py",
   "mimetype": "text/x-python",
   "name": "python",
   "nbconvert_exporter": "python",
   "pygments_lexer": "ipython3",
   "version": "3.11.5"
  },
  "orig_nbformat": 4
 },
 "nbformat": 4,
 "nbformat_minor": 2
}
