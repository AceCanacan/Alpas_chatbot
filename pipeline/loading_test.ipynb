{
 "cells": [
  {
   "cell_type": "code",
   "execution_count": 1,
   "metadata": {},
   "outputs": [],
   "source": [
    "import pandas as pd\n",
    "import openai\n",
    "import llama_index\n",
    "\n",
    "import pandas as pd\n",
    "from openai import OpenAI\n",
    "from dotenv import load_dotenv\n",
    "import os\n",
    "from llama_index.core import Document\n",
    "from llama_index.core.node_parser import SentenceSplitter\n",
    "from llama_index.embeddings.openai import OpenAIEmbedding\n",
    "\n",
    "from llama_index.core import VectorStoreIndex, SimpleDirectoryReader\n",
    "from llama_index.vector_stores.chroma import ChromaVectorStore\n",
    "from llama_index.core import StorageContext\n",
    "from IPython.display import Markdown, display\n",
    "import chromadb"
   ]
  },
  {
   "cell_type": "code",
   "execution_count": 2,
   "metadata": {},
   "outputs": [],
   "source": [
    "import os\n",
    "from dotenv import load_dotenv\n",
    "import openai\n",
    "\n",
    "# Load environment variables from .env file\n",
    "load_dotenv(dotenv_path='../.env')\n",
    "\n",
    "# Accessing the API key from environment variables\n",
    "openai.api_key = os.getenv(\"OPENAI_API_KEY\")\n",
    "\n",
    "chroma_server_host = os.getenv(\"CHROMA_SERVER_HOST\")\n",
    "chroma_server_http_port = os.getenv(\"CHROMA_SERVER_HTTP_PORT\")"
   ]
  },
  {
   "cell_type": "code",
   "execution_count": 3,
   "metadata": {},
   "outputs": [
    {
     "name": "stderr",
     "output_type": "stream",
     "text": [
      "Failed to send telemetry event ClientStartEvent: \u001b[91mYou are using a deprecated configuration of Chroma.\n",
      "\n",
      "\u001b[94mIf you do not have data you wish to migrate, you only need to change how you construct\n",
      "your Chroma client. Please see the \"New Clients\" section of https://docs.trychroma.com/migration.\n",
      "________________________________________________________________________________________________\n",
      "\n",
      "If you do have data you wish to migrate, we have a migration tool you can use in order to\n",
      "migrate your data to the new Chroma architecture.\n",
      "Please `pip install chroma-migrate` and run `chroma-migrate` to migrate your data and then\n",
      "change how you construct your Chroma client.\n",
      "\n",
      "See https://docs.trychroma.com/migration for more information or join our discord at https://discord.gg/8g5FESbj for help!\u001b[0m\n"
     ]
    }
   ],
   "source": [
    "# create client and a new collection\n",
    "chroma_client = chromadb.HttpClient(host=chroma_server_host, port=chroma_server_http_port)\n",
    "embed_model = OpenAIEmbedding(model=\"text-embedding-3-small\")"
   ]
  },
  {
   "cell_type": "code",
   "execution_count": 4,
   "metadata": {},
   "outputs": [
    {
     "name": "stderr",
     "output_type": "stream",
     "text": [
      "Failed to send telemetry event ClientStartEvent: \u001b[91mYou are using a deprecated configuration of Chroma.\n",
      "\n",
      "\u001b[94mIf you do not have data you wish to migrate, you only need to change how you construct\n",
      "your Chroma client. Please see the \"New Clients\" section of https://docs.trychroma.com/migration.\n",
      "________________________________________________________________________________________________\n",
      "\n",
      "If you do have data you wish to migrate, we have a migration tool you can use in order to\n",
      "migrate your data to the new Chroma architecture.\n",
      "Please `pip install chroma-migrate` and run `chroma-migrate` to migrate your data and then\n",
      "change how you construct your Chroma client.\n",
      "\n",
      "See https://docs.trychroma.com/migration for more information or join our discord at https://discord.gg/8g5FESbj for help!\u001b[0m\n"
     ]
    }
   ],
   "source": [
    "# load from disk\n",
    "db2 = chromadb.HttpClient(host=chroma_server_host, port=chroma_server_http_port)\n",
    "chroma_collection = db2.get_or_create_collection(\"LumadAI_collection\")\n",
    "vector_store = ChromaVectorStore(chroma_collection=chroma_collection)\n",
    "index = VectorStoreIndex.from_vector_store(\n",
    "    vector_store,\n",
    "    embed_model=embed_model,\n",
    ")"
   ]
  },
  {
   "cell_type": "code",
   "execution_count": 5,
   "metadata": {},
   "outputs": [
    {
     "data": {
      "text/markdown": [
       "<b>The tribes considered as indigenous are Kankaney, Ibaloi, Bontoc, Tinggian or Itneg, Ifugao, Kalinga, Yapayao, Aeta or Agta or Pugot, Bago, Ibanag, Ilongot, Gaddang, Itawis, Ivatan, Dumagats, Remontado, Alangan or Mangyan, Batangan, Buid or Buhid, Hanunuo, Iraya, Tadyawan, Cuyonon, Palawanon, Tagbanua, Tao't bato, Aeta of Camarines Norte and Camarines Sur, Aeta-Abiyan, Isarog, Kabihug, Agta, Mayon, Itom, Cimaron, Pullon, Ati, Magahat, Corolano, Sulod, Eskaya, Badjao, Kalibugan, Samal, Subanon, and Yakat.</b>"
      ],
      "text/plain": [
       "<IPython.core.display.Markdown object>"
      ]
     },
     "metadata": {},
     "output_type": "display_data"
    }
   ],
   "source": [
    "# Query Data from the Chroma Docker index\n",
    "query_engine = index.as_query_engine()\n",
    "response = query_engine.query(\"What are the tribes considered as indigenous?\")\n",
    "display(Markdown(f\"<b>{response}</b>\"))"
   ]
  }
 ],
 "metadata": {
  "kernelspec": {
   "display_name": "Python 3",
   "language": "python",
   "name": "python3"
  },
  "language_info": {
   "codemirror_mode": {
    "name": "ipython",
    "version": 3
   },
   "file_extension": ".py",
   "mimetype": "text/x-python",
   "name": "python",
   "nbconvert_exporter": "python",
   "pygments_lexer": "ipython3",
   "version": "3.11.5"
  },
  "orig_nbformat": 4
 },
 "nbformat": 4,
 "nbformat_minor": 2
}
